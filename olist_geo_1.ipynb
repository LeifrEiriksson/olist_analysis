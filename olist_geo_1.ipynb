{
 "cells": [
  {
   "cell_type": "markdown",
   "metadata": {},
   "source": [
    "Olá! Vamos iniciar mais um projeto de análise de dados!\n",
    "\n",
    "Dessa vez temos conosco um dataset interessantíssimo fornecido pela Olist, nele contamos com mais de 100 mil informações sobre os pedidos feitos entre 2016 e 2018 em diversas lojas virtuais do Brasil, as informações vão desde geolocalização, status dos pedidos, até às avaliações feitas pelos clientes.\n",
    "\n",
    "Segundo a própria Olist todas as informações que constam em nosso dataset são reais, sendo mantido apenas em anonimato a identidade dos clientes, como forma de preservação. Ainda segundo a empresa outras referências foram substituídas pelos nomes das casas referentes à série Game of Thrones. \n",
    "\n",
    "Antes de começarmos as nossas análises propriamente, convém nos atentarmos ao fornecedor de nossos dados:\n",
    "\n",
    "* \"Em termos gerais, Olist é uma plataforma que conecta a sua loja virtual ao seu público na internet. Funciona como um facilitador de processos, uma conexão segura entre lojistas e consumidores. Olist é um grande descomplicador para qualquer lojista – online ou offline – que deseja vender nos principais marketplaces do Brasil.\"\n"
   ]
  },
  {
   "cell_type": "code",
   "execution_count": 3,
   "metadata": {},
   "outputs": [],
   "source": [
    "import pandas_profiling \n",
    "import pandas as pd\n",
    "import numpy as np\n",
    "import matplotlib.pyplot as plt\n",
    "import os\n",
    "\n",
    "\n",
    "np.random.seed(789)\n",
    "%matplotlib inline\n",
    "pd.set_option('display.max_columns', 100)\n",
    "plt.style.use('fivethirtyeight')"
   ]
  },
  {
   "cell_type": "code",
   "execution_count": 4,
   "metadata": {},
   "outputs": [],
   "source": [
    "geo= pd.read_csv('olist_geolocation_dataset.csv')"
   ]
  },
  {
   "cell_type": "markdown",
   "metadata": {},
   "source": [
    "* Este estudo é voltado para a Geolocalização.\n",
    "* Vejamos de onde são os nossos principais clientes!"
   ]
  },
  {
   "cell_type": "code",
   "execution_count": 5,
   "metadata": {},
   "outputs": [],
   "source": [
    "import folium\n",
    "from folium import plugins"
   ]
  },
  {
   "cell_type": "code",
   "execution_count": 6,
   "metadata": {},
   "outputs": [],
   "source": [
    "#Apenas os dados longitudinais e latitudinais.\n",
    "\n",
    "coordenadas = geo.loc[:,['geolocation_lat', 'geolocation_lng']]"
   ]
  },
  {
   "cell_type": "code",
   "execution_count": 7,
   "metadata": {},
   "outputs": [],
   "source": [
    "mp1 = folium.Map(location=[-21.764089543486026, -48.167850377601376], tiles='CartoDB dark_matter', zoom_start=4.3)\n",
    "mp1.add_child(plugins.HeatMap(coordenadas, radius=10))\n",
    "\n",
    "\n",
    "mp1"
   ]
  }
 ],
 "metadata": {
  "interpreter": {
   "hash": "b9ab6568d88683974defd6f3653523a198c2f442ba475737b46c4e5bc8b36bcf"
  },
  "kernelspec": {
   "display_name": "Python 3.10.1 64-bit (system)",
   "language": "python",
   "name": "python3"
  },
  "language_info": {
   "codemirror_mode": {
    "name": "ipython",
    "version": 3
   },
   "file_extension": ".py",
   "mimetype": "text/x-python",
   "name": "python",
   "nbconvert_exporter": "python",
   "pygments_lexer": "ipython3",
   "version": "3.10.1"
  },
  "orig_nbformat": 4
 },
 "nbformat": 4,
 "nbformat_minor": 2
}
